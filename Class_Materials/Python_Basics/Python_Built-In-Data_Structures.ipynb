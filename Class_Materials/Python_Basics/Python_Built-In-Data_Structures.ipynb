{
 "cells": [
  {
   "cell_type": "markdown",
   "metadata": {
    "id": "JY7x-LVSTDP-"
   },
   "source": [
    "# Python Built-In Data Structures"
   ]
  },
  {
   "cell_type": "markdown",
   "metadata": {
    "id": "MIyFrLvJTDQI"
   },
   "source": [
    "## Lists"
   ]
  },
  {
   "cell_type": "code",
   "execution_count": 96,
   "metadata": {
    "executionInfo": {
     "elapsed": 18,
     "status": "ok",
     "timestamp": 1622473085121,
     "user": {
      "displayName": "Ignacio Soteras",
      "photoUrl": "",
      "userId": "02050793736257155229"
     },
     "user_tz": -120
    },
    "id": "2J8i6qNsTDQJ"
   },
   "outputs": [],
   "source": [
    "TA = [\"Sandra\"]"
   ]
  },
  {
   "cell_type": "code",
   "execution_count": 97,
   "metadata": {
    "colab": {
     "base_uri": "https://localhost:8080/"
    },
    "executionInfo": {
     "elapsed": 19,
     "status": "ok",
     "timestamp": 1622473085122,
     "user": {
      "displayName": "Ignacio Soteras",
      "photoUrl": "",
      "userId": "02050793736257155229"
     },
     "user_tz": -120
    },
    "id": "VsijzkPuTDQJ",
    "outputId": "df24f51f-51f4-4037-ec13-0db545f4a6e7"
   },
   "outputs": [
    {
     "data": {
      "text/plain": [
       "list"
      ]
     },
     "execution_count": 97,
     "metadata": {},
     "output_type": "execute_result"
    }
   ],
   "source": [
    "type(TA)"
   ]
  },
  {
   "cell_type": "code",
   "execution_count": 98,
   "metadata": {
    "colab": {
     "base_uri": "https://localhost:8080/"
    },
    "executionInfo": {
     "elapsed": 17,
     "status": "ok",
     "timestamp": 1622473085124,
     "user": {
      "displayName": "Ignacio Soteras",
      "photoUrl": "",
      "userId": "02050793736257155229"
     },
     "user_tz": -120
    },
    "id": "jtALFccsTDQJ",
    "outputId": "086363c6-f6fd-46a2-ec07-b306dab6e649"
   },
   "outputs": [
    {
     "data": {
      "text/plain": [
       "['Sandra']"
      ]
     },
     "execution_count": 98,
     "metadata": {},
     "output_type": "execute_result"
    }
   ],
   "source": [
    "TA"
   ]
  },
  {
   "cell_type": "markdown",
   "metadata": {
    "id": "QtkkNP8iTDQJ"
   },
   "source": [
    "#### Indexing, slicing, appending"
   ]
  },
  {
   "cell_type": "code",
   "execution_count": 99,
   "metadata": {
    "colab": {
     "base_uri": "https://localhost:8080/",
     "height": 35
    },
    "executionInfo": {
     "elapsed": 284,
     "status": "ok",
     "timestamp": 1622473088463,
     "user": {
      "displayName": "Ignacio Soteras",
      "photoUrl": "",
      "userId": "02050793736257155229"
     },
     "user_tz": -120
    },
    "id": "vUSQsqvfTDQJ",
    "outputId": "b6a37a76-2fc4-4ebc-8ae7-e8db5eb65512",
    "scrolled": true
   },
   "outputs": [
    {
     "data": {
      "text/plain": [
       "'Sandra'"
      ]
     },
     "execution_count": 99,
     "metadata": {},
     "output_type": "execute_result"
    }
   ],
   "source": [
    "TA[0]"
   ]
  },
  {
   "cell_type": "code",
   "execution_count": 100,
   "metadata": {
    "executionInfo": {
     "elapsed": 204,
     "status": "ok",
     "timestamp": 1622473174149,
     "user": {
      "displayName": "Ignacio Soteras",
      "photoUrl": "",
      "userId": "02050793736257155229"
     },
     "user_tz": -120
    },
    "id": "BYiMKablTDQK"
   },
   "outputs": [],
   "source": [
    "LT = \"Aleks\""
   ]
  },
  {
   "cell_type": "code",
   "execution_count": 101,
   "metadata": {},
   "outputs": [
    {
     "data": {
      "text/plain": [
       "str"
      ]
     },
     "execution_count": 101,
     "metadata": {},
     "output_type": "execute_result"
    }
   ],
   "source": [
    "type(LT)"
   ]
  },
  {
   "cell_type": "code",
   "execution_count": 102,
   "metadata": {
    "executionInfo": {
     "elapsed": 255,
     "status": "ok",
     "timestamp": 1622473182772,
     "user": {
      "displayName": "Ignacio Soteras",
      "photoUrl": "",
      "userId": "02050793736257155229"
     },
     "user_tz": -120
    },
    "id": "E1ylBEgbTDQK"
   },
   "outputs": [],
   "source": [
    "teachers = [LT] + TA"
   ]
  },
  {
   "cell_type": "code",
   "execution_count": 103,
   "metadata": {},
   "outputs": [
    {
     "data": {
      "text/plain": [
       "['Aleks', 'Sandra']"
      ]
     },
     "execution_count": 103,
     "metadata": {},
     "output_type": "execute_result"
    }
   ],
   "source": [
    "teachers"
   ]
  },
  {
   "cell_type": "code",
   "execution_count": 48,
   "metadata": {
    "colab": {
     "base_uri": "https://localhost:8080/"
    },
    "executionInfo": {
     "elapsed": 6,
     "status": "ok",
     "timestamp": 1622473186279,
     "user": {
      "displayName": "Ignacio Soteras",
      "photoUrl": "",
      "userId": "02050793736257155229"
     },
     "user_tz": -120
    },
    "id": "KfonezThTDQL",
    "outputId": "0eb5bf4b-6583-41e8-e2a6-707516bf2eee",
    "scrolled": true
   },
   "outputs": [
    {
     "name": "stdout",
     "output_type": "stream",
     "text": [
      "['Aleks', 'Sandra']\n"
     ]
    }
   ],
   "source": [
    "print(teachers)"
   ]
  },
  {
   "cell_type": "code",
   "execution_count": 49,
   "metadata": {
    "colab": {
     "base_uri": "https://localhost:8080/"
    },
    "executionInfo": {
     "elapsed": 191,
     "status": "ok",
     "timestamp": 1622473189102,
     "user": {
      "displayName": "Ignacio Soteras",
      "photoUrl": "",
      "userId": "02050793736257155229"
     },
     "user_tz": -120
    },
    "id": "n8dt1kc6TDQL",
    "outputId": "0926e0e7-005c-4422-c1db-6c8fe2492b1c"
   },
   "outputs": [
    {
     "data": {
      "text/plain": [
       "2"
      ]
     },
     "execution_count": 49,
     "metadata": {},
     "output_type": "execute_result"
    }
   ],
   "source": [
    "len(teachers)"
   ]
  },
  {
   "cell_type": "code",
   "execution_count": 4,
   "metadata": {},
   "outputs": [],
   "source": [
    "stdts = ['Anaswara Vijayan',\n",
    " 'Azad Kader',\n",
    " 'Babitha Prasun',\n",
    " 'Bruna Santos',\n",
    " 'Bryan Dunleavy',\n",
    " 'Elisa Cerdá Doñate',\n",
    " 'Feras Rafeh',\n",
    " 'Geneva Uy',\n",
    " 'Iranel González',\n",
    " 'Ivanna Pivtorak',\n",
    " 'Jan Hildebrand',\n",
    " 'Kaan Dural',\n",
    " 'Simran Agarwal',\n",
    " 'Tahora Husaini',\n",
    " 'Tomas Renaudo',\n",
    " 'Valentina Delgado']"
   ]
  },
  {
   "cell_type": "markdown",
   "metadata": {},
   "source": [
    "#### Creating a random sample of students"
   ]
  },
  {
   "cell_type": "code",
   "execution_count": 8,
   "metadata": {},
   "outputs": [
    {
     "name": "stdout",
     "output_type": "stream",
     "text": [
      "Bryan Dunleavy\n"
     ]
    },
    {
     "data": {
      "text/plain": [
       "['Jan Hildebrand',\n",
       " 'Kaan Dural',\n",
       " 'Bryan Dunleavy',\n",
       " 'Bruna Santos',\n",
       " 'Valentina Delgado']"
      ]
     },
     "execution_count": 8,
     "metadata": {},
     "output_type": "execute_result"
    }
   ],
   "source": [
    "#here \n",
    "# a nice module call random we can import\n",
    "\n",
    "import random\n",
    "\n",
    "sample_of_students = random.sample(stdts, 5)\n",
    "\n",
    "print(random.choice(stdts))\n",
    "\n",
    "sample_of_students"
   ]
  },
  {
   "cell_type": "markdown",
   "metadata": {},
   "source": [
    "#### Appending them to \"teachers\""
   ]
  },
  {
   "cell_type": "code",
   "execution_count": 54,
   "metadata": {},
   "outputs": [
    {
     "ename": "NameError",
     "evalue": "name 'stdts_sample' is not defined",
     "output_type": "error",
     "traceback": [
      "\u001b[1;31m---------------------------------------------------------------------------\u001b[0m",
      "\u001b[1;31mNameError\u001b[0m                                 Traceback (most recent call last)",
      "\u001b[1;32m~\\AppData\\Local\\Temp/ipykernel_8276/2824025214.py\u001b[0m in \u001b[0;36m<module>\u001b[1;34m\u001b[0m\n\u001b[1;32m----> 1\u001b[1;33m \u001b[0mteachers\u001b[0m\u001b[1;33m.\u001b[0m\u001b[0mappend\u001b[0m\u001b[1;33m(\u001b[0m\u001b[0mstdts_sample\u001b[0m\u001b[1;33m)\u001b[0m\u001b[1;33m\u001b[0m\u001b[1;33m\u001b[0m\u001b[0m\n\u001b[0m\u001b[0;32m      2\u001b[0m \u001b[0mteachers\u001b[0m\u001b[1;33m\u001b[0m\u001b[1;33m\u001b[0m\u001b[0m\n",
      "\u001b[1;31mNameError\u001b[0m: name 'stdts_sample' is not defined"
     ]
    }
   ],
   "source": [
    "teachers.append(stdts_sample)\n",
    "teachers"
   ]
  },
  {
   "cell_type": "markdown",
   "metadata": {
    "id": "1A_2ABUuTDQL"
   },
   "source": [
    "#### Iterating through lists"
   ]
  },
  {
   "cell_type": "code",
   "execution_count": 55,
   "metadata": {
    "colab": {
     "base_uri": "https://localhost:8080/"
    },
    "executionInfo": {
     "elapsed": 213,
     "status": "ok",
     "timestamp": 1622473196196,
     "user": {
      "displayName": "Ignacio Soteras",
      "photoUrl": "",
      "userId": "02050793736257155229"
     },
     "user_tz": -120
    },
    "id": "Wst_o9gNTDQL",
    "outputId": "0e120fe9-63a8-4c08-9f1f-b6adc00ff894",
    "scrolled": true
   },
   "outputs": [
    {
     "name": "stdout",
     "output_type": "stream",
     "text": [
      "Aleks is a teacher!\n",
      "Sandra is a teacher!\n"
     ]
    }
   ],
   "source": [
    "for  teacher in teachers:\n",
    "    print(teacher+ \" is a teacher!\")"
   ]
  },
  {
   "cell_type": "code",
   "execution_count": 56,
   "metadata": {},
   "outputs": [
    {
     "data": {
      "text/plain": [
       "['Aleks', 'Sandra']"
      ]
     },
     "execution_count": 56,
     "metadata": {},
     "output_type": "execute_result"
    }
   ],
   "source": [
    "teachers"
   ]
  },
  {
   "cell_type": "code",
   "execution_count": 59,
   "metadata": {},
   "outputs": [],
   "source": [
    "students = ['Anaswara Vijayan',\n",
    " 'Azad Kader',\n",
    " 'Babitha Prasun',\n",
    " 'Bruna Santos',\n",
    " 'Bryan Dunleavy',\n",
    " 'Elisa Cerdá Doñate',\n",
    " 'Feras Rafeh',\n",
    " 'Geneva Uy',\n",
    " 'Iranel González',\n",
    " 'Ivanna Pivtorak',\n",
    " 'Jan Hildebrand',\n",
    " 'Kaan Dural',\n",
    " 'Simran Agarwal',\n",
    " 'Tahora Husaini',\n",
    " 'Tomas Renaudo',\n",
    " 'Valentina Delgado']\n"
   ]
  },
  {
   "cell_type": "markdown",
   "metadata": {
    "id": "31rHy2z_TDQM"
   },
   "source": [
    "#### Print students with names ending with o"
   ]
  },
  {
   "cell_type": "code",
   "execution_count": 10,
   "metadata": {},
   "outputs": [
    {
     "data": {
      "text/plain": [
       "'l'"
      ]
     },
     "execution_count": 10,
     "metadata": {},
     "output_type": "execute_result"
    }
   ],
   "source": [
    "name = \"Iranel\"\n",
    "name[-1]"
   ]
  },
  {
   "cell_type": "code",
   "execution_count": 62,
   "metadata": {
    "colab": {
     "base_uri": "https://localhost:8080/"
    },
    "executionInfo": {
     "elapsed": 175,
     "status": "ok",
     "timestamp": 1622473280584,
     "user": {
      "displayName": "Ignacio Soteras",
      "photoUrl": "",
      "userId": "02050793736257155229"
     },
     "user_tz": -120
    },
    "id": "1N1PpjKuTDQM",
    "outputId": "a155befe-d557-42c7-fbbe-e964aa342b15"
   },
   "outputs": [
    {
     "name": "stdout",
     "output_type": "stream",
     "text": [
      "Tomas Renaudo\n",
      "Valentina Delgado\n"
     ]
    }
   ],
   "source": [
    "for student in students:\n",
    "    if ( student[-1]=='o'):\n",
    "        print(student)"
   ]
  },
  {
   "cell_type": "markdown",
   "metadata": {
    "id": "CxU-y1wDTDQM"
   },
   "source": [
    "#### Create two lists: \"student_names\" and \"student_surnames\""
   ]
  },
  {
   "cell_type": "code",
   "execution_count": 11,
   "metadata": {},
   "outputs": [
    {
     "data": {
      "text/plain": [
       "['I', 'am', 'walking']"
      ]
     },
     "execution_count": 11,
     "metadata": {},
     "output_type": "execute_result"
    }
   ],
   "source": [
    "sentence = \"I am walking\"\n",
    "sentence.split()"
   ]
  },
  {
   "cell_type": "code",
   "execution_count": 13,
   "metadata": {},
   "outputs": [
    {
     "data": {
      "text/plain": [
       "['I', 'am', 'walking']"
      ]
     },
     "execution_count": 13,
     "metadata": {},
     "output_type": "execute_result"
    }
   ],
   "source": [
    "sentence = \"I-am-walking\"\n",
    "sentence.split(\"-\")"
   ]
  },
  {
   "cell_type": "code",
   "execution_count": 80,
   "metadata": {
    "executionInfo": {
     "elapsed": 174,
     "status": "ok",
     "timestamp": 1622473300972,
     "user": {
      "displayName": "Ignacio Soteras",
      "photoUrl": "",
      "userId": "02050793736257155229"
     },
     "user_tz": -120
    },
    "id": "DPrp4qT7TDQM"
   },
   "outputs": [],
   "source": [
    "student_names = []\n",
    "student_surnames = []"
   ]
  },
  {
   "cell_type": "code",
   "execution_count": 81,
   "metadata": {
    "executionInfo": {
     "elapsed": 223,
     "status": "ok",
     "timestamp": 1622473346219,
     "user": {
      "displayName": "Ignacio Soteras",
      "photoUrl": "",
      "userId": "02050793736257155229"
     },
     "user_tz": -120
    },
    "id": "8p2RWHmETDQN",
    "scrolled": true
   },
   "outputs": [],
   "source": [
    "for student in students:\n",
    "    student_split = student.split()\n",
    "    # separate by space\n",
    "    ## populating the first names \n",
    "    student_names.append(student_split[0])\n",
    "    ## populating the seond list which contains the last names \n",
    "    student_surnames.append(student_split[-1])"
   ]
  },
  {
   "cell_type": "code",
   "execution_count": 50,
   "metadata": {},
   "outputs": [
    {
     "data": {
      "text/plain": [
       "['Dmitri',\n",
       " 'Doris',\n",
       " 'Evans',\n",
       " 'Festus',\n",
       " 'Frederik',\n",
       " 'Ilkay',\n",
       " 'Jorge',\n",
       " 'Juan',\n",
       " 'Juliette',\n",
       " 'Justyna',\n",
       " 'Mar',\n",
       " 'Mathilde',\n",
       " 'Monika',\n",
       " 'Nagarjuna',\n",
       " 'Nandhini',\n",
       " 'Santi',\n",
       " 'Unmesh',\n",
       " 'Yaren']"
      ]
     },
     "execution_count": 50,
     "metadata": {},
     "output_type": "execute_result"
    }
   ],
   "source": [
    "student_names"
   ]
  },
  {
   "cell_type": "code",
   "execution_count": 51,
   "metadata": {},
   "outputs": [
    {
     "data": {
      "text/plain": [
       "['Risaev',\n",
       " 'Garcia',\n",
       " 'Rono',\n",
       " 'Oladipo',\n",
       " 'Nurnus',\n",
       " 'Müller',\n",
       " 'Aguilar',\n",
       " 'Giussani',\n",
       " 'Degoul',\n",
       " 'Kurach',\n",
       " 'Sánchez',\n",
       " 'Monge',\n",
       " 'Radominska',\n",
       " 'Jupally',\n",
       " 'Natrayan',\n",
       " 'Neves',\n",
       " 'Gupta',\n",
       " 'Akın']"
      ]
     },
     "execution_count": 51,
     "metadata": {},
     "output_type": "execute_result"
    }
   ],
   "source": [
    "student_surnames\n",
    "#[::] tomamos todo\n",
    "#[::2] lo tomamos de dos en dos\n",
    "# [0:2]  0 is not inclusive and 2 is exclusive "
   ]
  },
  {
   "cell_type": "markdown",
   "metadata": {
    "id": "JXR4QJ23TDQN"
   },
   "source": [
    "#### Print the surname for a random name"
   ]
  },
  {
   "cell_type": "code",
   "execution_count": 18,
   "metadata": {},
   "outputs": [
    {
     "ename": "NameError",
     "evalue": "name 'student_names' is not defined",
     "output_type": "error",
     "traceback": [
      "\u001b[1;31m---------------------------------------------------------------------------\u001b[0m",
      "\u001b[1;31mNameError\u001b[0m                                 Traceback (most recent call last)",
      "\u001b[1;32m~\\AppData\\Local\\Temp\\ipykernel_35044\\1758472230.py\u001b[0m in \u001b[0;36m<module>\u001b[1;34m\u001b[0m\n\u001b[0;32m      1\u001b[0m \u001b[1;31m#choose a random name\u001b[0m\u001b[1;33m\u001b[0m\u001b[1;33m\u001b[0m\u001b[0m\n\u001b[0;32m      2\u001b[0m \u001b[1;33m\u001b[0m\u001b[0m\n\u001b[1;32m----> 3\u001b[1;33m \u001b[0mrandom_name\u001b[0m \u001b[1;33m=\u001b[0m \u001b[0mrandom\u001b[0m\u001b[1;33m.\u001b[0m\u001b[0mchoice\u001b[0m\u001b[1;33m(\u001b[0m\u001b[0mstudent_names\u001b[0m\u001b[1;33m)\u001b[0m\u001b[1;33m\u001b[0m\u001b[1;33m\u001b[0m\u001b[0m\n\u001b[0m\u001b[0;32m      4\u001b[0m \u001b[0mrandom_name\u001b[0m\u001b[1;33m\u001b[0m\u001b[1;33m\u001b[0m\u001b[0m\n",
      "\u001b[1;31mNameError\u001b[0m: name 'student_names' is not defined"
     ]
    }
   ],
   "source": [
    "#choose a random name\n",
    "\n",
    "random_name = random.choice(student_names)\n",
    "random_name"
   ]
  },
  {
   "cell_type": "code",
   "execution_count": 70,
   "metadata": {},
   "outputs": [],
   "source": [
    "index_student = student_names.index(random_name)"
   ]
  },
  {
   "cell_type": "code",
   "execution_count": 56,
   "metadata": {
    "scrolled": true
   },
   "outputs": [
    {
     "data": {
      "text/plain": [
       "3"
      ]
     },
     "execution_count": 56,
     "metadata": {},
     "output_type": "execute_result"
    }
   ],
   "source": [
    "index_student"
   ]
  },
  {
   "cell_type": "code",
   "execution_count": 71,
   "metadata": {
    "colab": {
     "base_uri": "https://localhost:8080/"
    },
    "executionInfo": {
     "elapsed": 190,
     "status": "ok",
     "timestamp": 1622473388002,
     "user": {
      "displayName": "Ignacio Soteras",
      "photoUrl": "",
      "userId": "02050793736257155229"
     },
     "user_tz": -120
    },
    "id": "gE7FojgwTDQN",
    "outputId": "bf44adfd-08fd-4121-e227-aebe98d87432"
   },
   "outputs": [
    {
     "data": {
      "text/plain": [
       "'Oladipo'"
      ]
     },
     "execution_count": 71,
     "metadata": {},
     "output_type": "execute_result"
    }
   ],
   "source": [
    "student_surnames[index_student]"
   ]
  },
  {
   "cell_type": "markdown",
   "metadata": {
    "id": "cIXAV-1PTDQP"
   },
   "source": [
    "## Dictionaries"
   ]
  },
  {
   "cell_type": "code",
   "execution_count": 65,
   "metadata": {
    "executionInfo": {
     "elapsed": 584,
     "status": "ok",
     "timestamp": 1622473465407,
     "user": {
      "displayName": "Ignacio Soteras",
      "photoUrl": "",
      "userId": "02050793736257155229"
     },
     "user_tz": -120
    },
    "id": "64vPaY7sTDQP"
   },
   "outputs": [],
   "source": [
    "ages = {\n",
    "        \"Aleks\":28,\n",
    "        \"Sandra\":30\n",
    "       }"
   ]
  },
  {
   "cell_type": "code",
   "execution_count": 66,
   "metadata": {
    "colab": {
     "base_uri": "https://localhost:8080/"
    },
    "executionInfo": {
     "elapsed": 183,
     "status": "ok",
     "timestamp": 1622473466950,
     "user": {
      "displayName": "Ignacio Soteras",
      "photoUrl": "",
      "userId": "02050793736257155229"
     },
     "user_tz": -120
    },
    "id": "yEvwOw78TDQQ",
    "outputId": "221446d9-707d-4bb0-9cdd-83f8d6a5e7c7"
   },
   "outputs": [
    {
     "data": {
      "text/plain": [
       "{'Aleks': 28, 'Sandra': 30}"
      ]
     },
     "execution_count": 66,
     "metadata": {},
     "output_type": "execute_result"
    }
   ],
   "source": [
    "ages"
   ]
  },
  {
   "cell_type": "markdown",
   "metadata": {
    "id": "dWATnEg2TDQQ"
   },
   "source": [
    "#### Accessing keys & values"
   ]
  },
  {
   "cell_type": "code",
   "execution_count": 67,
   "metadata": {},
   "outputs": [
    {
     "data": {
      "text/plain": [
       "['Aleks', 'Sandra']"
      ]
     },
     "execution_count": 67,
     "metadata": {},
     "output_type": "execute_result"
    }
   ],
   "source": [
    "list(ages.keys())"
   ]
  },
  {
   "cell_type": "code",
   "execution_count": 68,
   "metadata": {
    "colab": {
     "base_uri": "https://localhost:8080/"
    },
    "executionInfo": {
     "elapsed": 185,
     "status": "ok",
     "timestamp": 1622473473916,
     "user": {
      "displayName": "Ignacio Soteras",
      "photoUrl": "",
      "userId": "02050793736257155229"
     },
     "user_tz": -120
    },
    "id": "bbRuYJj4TDQQ",
    "outputId": "c8754e66-e92d-46f7-8173-c70a2b5c9563"
   },
   "outputs": [
    {
     "data": {
      "text/plain": [
       "[28, 30]"
      ]
     },
     "execution_count": 68,
     "metadata": {},
     "output_type": "execute_result"
    }
   ],
   "source": [
    "list(ages.values())"
   ]
  },
  {
   "cell_type": "code",
   "execution_count": 69,
   "metadata": {
    "colab": {
     "base_uri": "https://localhost:8080/"
    },
    "executionInfo": {
     "elapsed": 185,
     "status": "ok",
     "timestamp": 1622473501910,
     "user": {
      "displayName": "Ignacio Soteras",
      "photoUrl": "",
      "userId": "02050793736257155229"
     },
     "user_tz": -120
    },
    "id": "HM2bZ45FTDQQ",
    "outputId": "cc4bcd1d-25a8-4d0a-dfa0-7c60d74a9430"
   },
   "outputs": [
    {
     "data": {
      "text/plain": [
       "28"
      ]
     },
     "execution_count": 69,
     "metadata": {},
     "output_type": "execute_result"
    }
   ],
   "source": [
    "ages[\"Aleks\"]"
   ]
  },
  {
   "cell_type": "code",
   "execution_count": 70,
   "metadata": {
    "colab": {
     "base_uri": "https://localhost:8080/"
    },
    "executionInfo": {
     "elapsed": 7,
     "status": "ok",
     "timestamp": 1622473505403,
     "user": {
      "displayName": "Ignacio Soteras",
      "photoUrl": "",
      "userId": "02050793736257155229"
     },
     "user_tz": -120
    },
    "id": "t4AeOE1LTDQQ",
    "outputId": "b654e029-57b4-45d6-ebae-75f165a9d4d8"
   },
   "outputs": [
    {
     "data": {
      "text/plain": [
       "2"
      ]
     },
     "execution_count": 70,
     "metadata": {},
     "output_type": "execute_result"
    }
   ],
   "source": [
    "len(ages)"
   ]
  },
  {
   "cell_type": "markdown",
   "metadata": {
    "id": "S71yWy_TTDQR"
   },
   "source": [
    "#### Iterate through dictionary"
   ]
  },
  {
   "cell_type": "code",
   "execution_count": 71,
   "metadata": {},
   "outputs": [
    {
     "name": "stdout",
     "output_type": "stream",
     "text": [
      "Aleks\n",
      "Sandra\n"
     ]
    }
   ],
   "source": [
    "for i in ages:\n",
    "    print(i)"
   ]
  },
  {
   "cell_type": "code",
   "execution_count": 72,
   "metadata": {},
   "outputs": [
    {
     "data": {
      "text/plain": [
       "{'Aleks': 28, 'Sandra': 30}"
      ]
     },
     "execution_count": 72,
     "metadata": {},
     "output_type": "execute_result"
    }
   ],
   "source": [
    "ages"
   ]
  },
  {
   "cell_type": "code",
   "execution_count": 73,
   "metadata": {
    "colab": {
     "base_uri": "https://localhost:8080/"
    },
    "executionInfo": {
     "elapsed": 211,
     "status": "ok",
     "timestamp": 1622473509042,
     "user": {
      "displayName": "Ignacio Soteras",
      "photoUrl": "",
      "userId": "02050793736257155229"
     },
     "user_tz": -120
    },
    "id": "sHWZ_EgyTDQR",
    "outputId": "a4fcf246-c7da-4b65-f86c-1d75b8df11e8",
    "scrolled": true
   },
   "outputs": [
    {
     "name": "stdout",
     "output_type": "stream",
     "text": [
      "Aleks is 28 years old.\n",
      "Sandra is 30 years old.\n"
     ]
    }
   ],
   "source": [
    "for teacher in ages.keys():\n",
    "    print(teacher + \" is \" + str(ages[teacher]) + \" years old.\")"
   ]
  },
  {
   "cell_type": "markdown",
   "metadata": {},
   "source": [
    "<b> iterating using items() "
   ]
  },
  {
   "cell_type": "code",
   "execution_count": 74,
   "metadata": {},
   "outputs": [
    {
     "data": {
      "text/plain": [
       "dict_items([('Aleks', 28), ('Sandra', 30)])"
      ]
     },
     "execution_count": 74,
     "metadata": {},
     "output_type": "execute_result"
    }
   ],
   "source": [
    "ages.items()"
   ]
  },
  {
   "cell_type": "code",
   "execution_count": 75,
   "metadata": {},
   "outputs": [
    {
     "name": "stdout",
     "output_type": "stream",
     "text": [
      "Aleks is 28 years old \n",
      "Sandra is 30 years old \n"
     ]
    }
   ],
   "source": [
    "for i,j in ages.items():\n",
    "    print (i + \" is \"+ str(j) +\" years old \")"
   ]
  },
  {
   "cell_type": "markdown",
   "metadata": {
    "id": "_1gzqo1QTDQR"
   },
   "source": [
    "#### Nested dictionaries\n",
    "\n",
    "Create a dictionary of teachers. For each teacher, it stores their age, role and the city where they live."
   ]
  },
  {
   "cell_type": "code",
   "execution_count": 28,
   "metadata": {
    "executionInfo": {
     "elapsed": 303,
     "status": "ok",
     "timestamp": 1622473514773,
     "user": {
      "displayName": "Ignacio Soteras",
      "photoUrl": "",
      "userId": "02050793736257155229"
     },
     "user_tz": -120
    },
    "id": "yRQg_TmATDQR"
   },
   "outputs": [
    {
     "name": "stdout",
     "output_type": "stream",
     "text": [
      "TA\n",
      "Mexico City\n"
     ]
    }
   ],
   "source": [
    "teachers_dict = {\n",
    "    \n",
    "    \"Aleks\":{\n",
    "        \"age\":18,\n",
    "        \"role\":\"LT\",\n",
    "        \"city_residence\":\"Berlin\"\n",
    "    },\n",
    "    \"Sandra\":{\n",
    "        \"age\": 19,\n",
    "        \"role\":\"TA\",\n",
    "        \"city_residence\":\"Mexico City\"\n",
    "    }\n",
    "}\n",
    "\n",
    "#teachers_dict[\"Sandra\"][\"role\"]\n",
    "print(teachers_dict[\"Sandra\"][\"role\"])\n",
    "\n",
    "print(teachers_dict[\"Sandra\"][\"city_residence\"])"
   ]
  },
  {
   "cell_type": "markdown",
   "metadata": {},
   "source": [
    "#### Challenge: print Sandra's role"
   ]
  },
  {
   "cell_type": "code",
   "execution_count": 20,
   "metadata": {},
   "outputs": [
    {
     "ename": "NameError",
     "evalue": "name 'teachers_dict' is not defined",
     "output_type": "error",
     "traceback": [
      "\u001b[1;31m---------------------------------------------------------------------------\u001b[0m",
      "\u001b[1;31mNameError\u001b[0m                                 Traceback (most recent call last)",
      "\u001b[1;32m~\\AppData\\Local\\Temp\\ipykernel_35044\\2990465720.py\u001b[0m in \u001b[0;36m<module>\u001b[1;34m\u001b[0m\n\u001b[0;32m      1\u001b[0m \u001b[1;31m#here\u001b[0m\u001b[1;33m\u001b[0m\u001b[1;33m\u001b[0m\u001b[0m\n\u001b[1;32m----> 2\u001b[1;33m \u001b[0mteachers_dict\u001b[0m\u001b[1;33m[\u001b[0m\u001b[1;34m\"Sandra\"\u001b[0m\u001b[1;33m]\u001b[0m\u001b[1;33m[\u001b[0m\u001b[1;34m\"Role\"\u001b[0m\u001b[1;33m]\u001b[0m\u001b[1;33m\u001b[0m\u001b[1;33m\u001b[0m\u001b[0m\n\u001b[0m",
      "\u001b[1;31mNameError\u001b[0m: name 'teachers_dict' is not defined"
     ]
    }
   ],
   "source": [
    "#here\n",
    "teachers_dict[\"Sandra\"][\"Role\"]"
   ]
  },
  {
   "cell_type": "markdown",
   "metadata": {
    "id": "dk6riaYKTDQS"
   },
   "source": [
    "#### Print only t name of teachers who live in Berlin"
   ]
  },
  {
   "cell_type": "code",
   "execution_count": 80,
   "metadata": {
    "colab": {
     "base_uri": "https://localhost:8080/"
    },
    "executionInfo": {
     "elapsed": 208,
     "status": "ok",
     "timestamp": 1622473548181,
     "user": {
      "displayName": "Ignacio Soteras",
      "photoUrl": "",
      "userId": "02050793736257155229"
     },
     "user_tz": -120
    },
    "id": "O3eKDMrwTDQS",
    "outputId": "57836f73-2e02-47b8-f445-014c536a3676"
   },
   "outputs": [
    {
     "name": "stdout",
     "output_type": "stream",
     "text": [
      "Aleks lives in Berlin\n"
     ]
    }
   ],
   "source": [
    "for teacher in teachers_dict.keys():\n",
    "    teacher_Info=teachers_dict[teacher]\n",
    "    if teacher_Info[\"city_residence\"] == \"Berlin\":\n",
    "        print(teacher + \" lives in Berlin\")"
   ]
  },
  {
   "cell_type": "markdown",
   "metadata": {
    "id": "6doqUoN5TDQS"
   },
   "source": [
    "## Tuples"
   ]
  },
  {
   "cell_type": "code",
   "execution_count": 91,
   "metadata": {},
   "outputs": [
    {
     "data": {
      "text/plain": [
       "['Aleks', 'Jan']"
      ]
     },
     "execution_count": 91,
     "metadata": {},
     "output_type": "execute_result"
    }
   ],
   "source": [
    "teachers"
   ]
  },
  {
   "cell_type": "code",
   "execution_count": 92,
   "metadata": {
    "executionInfo": {
     "elapsed": 187,
     "status": "ok",
     "timestamp": 1622473550845,
     "user": {
      "displayName": "Ignacio Soteras",
      "photoUrl": "",
      "userId": "02050793736257155229"
     },
     "user_tz": -120
    },
    "id": "gK_39kH5TDQS"
   },
   "outputs": [],
   "source": [
    "teachers_tuple = tuple(teachers)"
   ]
  },
  {
   "cell_type": "code",
   "execution_count": 93,
   "metadata": {
    "colab": {
     "base_uri": "https://localhost:8080/"
    },
    "executionInfo": {
     "elapsed": 178,
     "status": "ok",
     "timestamp": 1622473553778,
     "user": {
      "displayName": "Ignacio Soteras",
      "photoUrl": "",
      "userId": "02050793736257155229"
     },
     "user_tz": -120
    },
    "id": "QvOFIe_ZTDQS",
    "outputId": "95053103-1525-4d2b-f3a5-39e0d185555c"
   },
   "outputs": [
    {
     "data": {
      "text/plain": [
       "('Aleks', 'Jan')"
      ]
     },
     "execution_count": 93,
     "metadata": {},
     "output_type": "execute_result"
    }
   ],
   "source": [
    "teachers_tuple"
   ]
  },
  {
   "cell_type": "code",
   "execution_count": 89,
   "metadata": {
    "colab": {
     "base_uri": "https://localhost:8080/",
     "height": 165
    },
    "executionInfo": {
     "elapsed": 195,
     "status": "error",
     "timestamp": 1622473556716,
     "user": {
      "displayName": "Ignacio Soteras",
      "photoUrl": "",
      "userId": "02050793736257155229"
     },
     "user_tz": -120
    },
    "id": "cnE-tjTDTDQS",
    "outputId": "f90f84e3-06ad-4642-a1cb-86a9dc6a10b2"
   },
   "outputs": [
    {
     "ename": "TypeError",
     "evalue": "'tuple' object does not support item assignment",
     "output_type": "error",
     "traceback": [
      "\u001b[1;31m---------------------------------------------------------------------------\u001b[0m",
      "\u001b[1;31mTypeError\u001b[0m                                 Traceback (most recent call last)",
      "\u001b[1;32m~\\AppData\\Local\\Temp/ipykernel_8276/774752671.py\u001b[0m in \u001b[0;36m<module>\u001b[1;34m\u001b[0m\n\u001b[1;32m----> 1\u001b[1;33m \u001b[0mteachers_tuple\u001b[0m\u001b[1;33m[\u001b[0m\u001b[1;36m1\u001b[0m\u001b[1;33m]\u001b[0m \u001b[1;33m=\u001b[0m \u001b[1;34m\"John\"\u001b[0m\u001b[1;33m\u001b[0m\u001b[1;33m\u001b[0m\u001b[0m\n\u001b[0m",
      "\u001b[1;31mTypeError\u001b[0m: 'tuple' object does not support item assignment"
     ]
    }
   ],
   "source": [
    "teachers_tuple[1] = \"John\""
   ]
  },
  {
   "cell_type": "code",
   "execution_count": 104,
   "metadata": {},
   "outputs": [
    {
     "data": {
      "text/plain": [
       "['Aleks', 'Sandra']"
      ]
     },
     "execution_count": 104,
     "metadata": {},
     "output_type": "execute_result"
    }
   ],
   "source": [
    "teachers"
   ]
  },
  {
   "cell_type": "markdown",
   "metadata": {},
   "source": [
    "## Set (its unique, we can not have duplicate values)"
   ]
  },
  {
   "cell_type": "markdown",
   "metadata": {
    "id": "hBrTNpyUTDQU"
   },
   "source": [
    "#### Take a random sample (with replacement) of 100 numbers from 1 to 100:"
   ]
  },
  {
   "cell_type": "code",
   "execution_count": 107,
   "metadata": {},
   "outputs": [
    {
     "name": "stdout",
     "output_type": "stream",
     "text": [
      "0\n",
      "1\n",
      "2\n",
      "3\n",
      "4\n"
     ]
    }
   ],
   "source": [
    "for i in range(5):\n",
    "    print(i)\n",
    "    \n",
    "    # 0 to 5 exclusive when we use range"
   ]
  },
  {
   "cell_type": "code",
   "execution_count": 108,
   "metadata": {
    "executionInfo": {
     "elapsed": 224,
     "status": "ok",
     "timestamp": 1622473582781,
     "user": {
      "displayName": "Ignacio Soteras",
      "photoUrl": "",
      "userId": "02050793736257155229"
     },
     "user_tz": -120
    },
    "id": "SDb3qAkmTDQU"
   },
   "outputs": [],
   "source": [
    "random_numbers = []\n",
    "\n",
    "for i in range(100):\n",
    "    random_numbers.append(random.randint(1, 100))"
   ]
  },
  {
   "cell_type": "code",
   "execution_count": 109,
   "metadata": {
    "colab": {
     "base_uri": "https://localhost:8080/"
    },
    "executionInfo": {
     "elapsed": 8,
     "status": "ok",
     "timestamp": 1622473584392,
     "user": {
      "displayName": "Ignacio Soteras",
      "photoUrl": "",
      "userId": "02050793736257155229"
     },
     "user_tz": -120
    },
    "id": "9Tyj_KOOTDQU",
    "outputId": "e1ed6a93-c1fa-45e4-95d6-bf4669e6c76b",
    "scrolled": true
   },
   "outputs": [
    {
     "data": {
      "text/plain": [
       "100"
      ]
     },
     "execution_count": 109,
     "metadata": {},
     "output_type": "execute_result"
    }
   ],
   "source": [
    "len(random_numbers)"
   ]
  },
  {
   "cell_type": "code",
   "execution_count": 110,
   "metadata": {},
   "outputs": [
    {
     "data": {
      "text/plain": [
       "65"
      ]
     },
     "execution_count": 110,
     "metadata": {},
     "output_type": "execute_result"
    }
   ],
   "source": [
    "len(set(random_numbers))"
   ]
  },
  {
   "cell_type": "markdown",
   "metadata": {},
   "source": [
    "### set union"
   ]
  },
  {
   "cell_type": "code",
   "execution_count": 111,
   "metadata": {},
   "outputs": [
    {
     "data": {
      "text/plain": [
       "{'apple', 'banana', 'cherry', 'google', 'microsoft'}"
      ]
     },
     "execution_count": 111,
     "metadata": {},
     "output_type": "execute_result"
    }
   ],
   "source": [
    "x = {\"apple\", \"banana\", \"cherry\"}\n",
    "y = {\"google\", \"microsoft\", \"apple\"}\n",
    "\n",
    "z = x.union(y)\n",
    "z"
   ]
  }
 ],
 "metadata": {
  "colab": {
   "name": "Code Along Object Types.ipynb",
   "provenance": []
  },
  "kernelspec": {
   "display_name": "Python 3 (ipykernel)",
   "language": "python",
   "name": "python3"
  },
  "language_info": {
   "codemirror_mode": {
    "name": "ipython",
    "version": 3
   },
   "file_extension": ".py",
   "mimetype": "text/x-python",
   "name": "python",
   "nbconvert_exporter": "python",
   "pygments_lexer": "ipython3",
   "version": "3.9.13"
  },
  "toc": {
   "base_numbering": 1,
   "nav_menu": {},
   "number_sections": false,
   "sideBar": true,
   "skip_h1_title": false,
   "title_cell": "Table of Contents",
   "title_sidebar": "Contents",
   "toc_cell": false,
   "toc_position": {},
   "toc_section_display": true,
   "toc_window_display": false
  }
 },
 "nbformat": 4,
 "nbformat_minor": 1
}
